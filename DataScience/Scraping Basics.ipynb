{
 "cells": [
  {
   "cell_type": "markdown",
   "metadata": {},
   "source": [
    "scraping consists of \n",
    "\n",
    "- obtaining raw data from source ( requests )\n",
    "- filtering out useful data from garbage ( beautifulsoup4 )\n",
    "- saving into appropriate format ( csv )"
   ]
  },
  {
   "cell_type": "code",
   "execution_count": 1,
   "metadata": {
    "collapsed": true
   },
   "outputs": [],
   "source": [
    "import requests"
   ]
  },
  {
   "cell_type": "code",
   "execution_count": 2,
   "metadata": {
    "collapsed": true
   },
   "outputs": [],
   "source": [
    "url = 'http://www.mfd.gov.np'"
   ]
  },
  {
   "cell_type": "code",
   "execution_count": 3,
   "metadata": {
    "collapsed": true
   },
   "outputs": [],
   "source": [
    "req = requests.get(url)"
   ]
  },
  {
   "cell_type": "code",
   "execution_count": 4,
   "metadata": {
    "collapsed": false
   },
   "outputs": [
    {
     "data": {
      "text/plain": [
       "<Response [200]>"
      ]
     },
     "execution_count": 4,
     "metadata": {},
     "output_type": "execute_result"
    }
   ],
   "source": [
    "req"
   ]
  },
  {
   "cell_type": "code",
   "execution_count": 5,
   "metadata": {
    "collapsed": false
   },
   "outputs": [
    {
     "data": {
      "text/plain": [
       "['__attrs__',\n",
       " '__bool__',\n",
       " '__class__',\n",
       " '__delattr__',\n",
       " '__dict__',\n",
       " '__dir__',\n",
       " '__doc__',\n",
       " '__eq__',\n",
       " '__format__',\n",
       " '__ge__',\n",
       " '__getattribute__',\n",
       " '__getstate__',\n",
       " '__gt__',\n",
       " '__hash__',\n",
       " '__init__',\n",
       " '__iter__',\n",
       " '__le__',\n",
       " '__lt__',\n",
       " '__module__',\n",
       " '__ne__',\n",
       " '__new__',\n",
       " '__nonzero__',\n",
       " '__reduce__',\n",
       " '__reduce_ex__',\n",
       " '__repr__',\n",
       " '__setattr__',\n",
       " '__setstate__',\n",
       " '__sizeof__',\n",
       " '__str__',\n",
       " '__subclasshook__',\n",
       " '__weakref__',\n",
       " '_content',\n",
       " '_content_consumed',\n",
       " 'apparent_encoding',\n",
       " 'close',\n",
       " 'connection',\n",
       " 'content',\n",
       " 'cookies',\n",
       " 'elapsed',\n",
       " 'encoding',\n",
       " 'headers',\n",
       " 'history',\n",
       " 'is_permanent_redirect',\n",
       " 'is_redirect',\n",
       " 'iter_content',\n",
       " 'iter_lines',\n",
       " 'json',\n",
       " 'links',\n",
       " 'ok',\n",
       " 'raise_for_status',\n",
       " 'raw',\n",
       " 'reason',\n",
       " 'request',\n",
       " 'status_code',\n",
       " 'text',\n",
       " 'url']"
      ]
     },
     "execution_count": 5,
     "metadata": {},
     "output_type": "execute_result"
    }
   ],
   "source": [
    "dir(req)"
   ]
  },
  {
   "cell_type": "code",
   "execution_count": 6,
   "metadata": {
    "collapsed": false
   },
   "outputs": [
    {
     "data": {
      "text/plain": [
       "{'X-Powered-By': 'PHP/5.3.3', 'Date': 'Thu, 12 May 2016 02:53:11 GMT', 'Transfer-Encoding': 'chunked', 'Pragma': 'no-cache', 'Expires': 'Thu, 19 Nov 1981 08:52:00 GMT', 'Set-Cookie': 'PHPSESSID=2f4vqqs5ctcaamnqahjlsc30p6; path=/', 'Cache-Control': 'no-store, no-cache, must-revalidate, post-check=0, pre-check=0', 'Content-Type': 'text/html; charset=utf-8', 'Server': 'Apache/2.2.15 (CentOS)', 'Connection': 'close'}"
      ]
     },
     "execution_count": 6,
     "metadata": {},
     "output_type": "execute_result"
    }
   ],
   "source": [
    "req.headers"
   ]
  },
  {
   "cell_type": "code",
   "execution_count": 7,
   "metadata": {
    "collapsed": false
   },
   "outputs": [
    {
     "data": {
      "text/plain": [
       "'<!DOCTYPE html>\\n<html>\\n<head>\\n<title>Meteorological Forecasting Division</title>\\n\\n\\t<meta name=\"viewport\"\\n\\tcontent=\"width=device-width, initial-scale=1.0, user-scalable=no\">\\n  <meta http-equiv=\"Content-Type\" content=\"text/html;charset=utf-8\"/>\\n\\t<link href=\"/mfd.gov.np/_bootstrap/css/bootstrap.css\"\\n\\trel=\"stylesheet\">\\n\\t<link href=\"/mfd.gov.np/_stylesheets/mfd.css\" rel=\"stylesheet\">\\n\\t<link rel=\"icon\"\\n      type=\"image/png\" \\n      href=\"/mfd.gov.np/_req/favicon.png\">\\n\\t\\t\\t\\t\\t\\t\\n\\t<!-- HTML5 Shim and Respond.js IE8 support of HTML5 elements and media queries -->\\n    <!-- WARNING: Respond.js doesn\\'t work if you view the page via file:// -->\\n    <!--[if lt IE 9]>\\n\\t<script src=\"/mfd.gov.np/_js/html5shiv.js\"></script>\\n\\t<script src=\"/mfd.gov.np/_js/respond.min.js\"></script>\\n\\n\\n\\t<![endif]-->\\n</head>\\n\\n<body>\\n<div class=\"site-header\">\\n\\t<div class=\"container\">\\n\\t\\t<img width=\"64px\" src=\"/mfd.gov.np/_req/logo.png\" />\\n\\t\\t<h2 style=\"margin-bottom: 5px\">Government of Nepal</h2>\\n\\t\\t<h2>Department of Hydrology and Meteorology</h2>\\n\\t\\t<h1>Meteorological Forecasting Division</h1>\\n\\n\\t</div>\\n\\t<div class=\"container\">\\n\\t\\t<div class=\"navbar navbar-inverse navbar-static-top\" role=\"navigation\">\\n\\t\\t\\t<div class=\"navbar-header\">\\n\\t\\t\\t\\t<button type=\"button\" class=\"navbar-toggle\" data-toggle=\"collapse\"\\n\\t\\t\\t\\t\\t\\tdata-target=\".navbar-collapse\">\\n\\t\\t\\t\\t\\t<span class=\"sr-only\">Toggle navigation</span> <span\\n\\t\\t\\t\\t\\t\\t\\tclass=\"icon-bar\"></span> <span class=\"icon-bar\"></span> <span\\n\\t\\t\\t\\t\\t\\t\\tclass=\"icon-bar\"></span>\\n\\t\\t\\t\\t</button>\\n\\t\\t\\t\\t<!-- <a class=\"navbar-brand\" href=\"#\">MFD</a> -->\\n\\t\\t\\t</div>\\n\\t\\t\\t<div class=\"navbar-collapse collapse\">\\n\\t\\t\\t\\t<ul class=\"nav navbar-nav\">\\n\\t\\t\\t\\t\\t<li><a href=\"/\">Home</a></li><li><a href=\"/weather/\">Weather</a></li><li><a href=\"/satellite/\">Satellite</a></li><li><a href=\"/mountaineering/\">Mountaineering</a></li><li><a href=\"/report/\">Archives</a></li>\\n\\t\\t\\t\\t</ul>\\n\\t\\t\\t</div>\\n\\t\\t</div>\\n\\t</div>\\n</div>\\n\\t\\n<DIV class=\"carousel slide\" id=\"mainCarousel\" data-ride=\"carousel\"><ol class=\"carousel-indicators\"><li class=\"active\" data-target=\"#mainCarousel\" data-slide-to=\"0\" data-ride=\"carousel\"></li><li data-target=\"#mainCarousel\" data-slide-to=\"1\" data-ride=\"carousel\"></li><li data-target=\"#mainCarousel\" data-slide-to=\"2\" data-ride=\"carousel\"></li><li data-target=\"#mainCarousel\" data-slide-to=\"3\" data-ride=\"carousel\"></li></ol><div class=\"carousel-inner\"><div class=\"item active\"><img data-src=\"holder.js/749x500/audo/#666:#6a6a/text:SomeText\" src=\"/mfd.gov.np/_files/3f08cf63ac0295beb40cc32bf5762af4.jpg\"></img><div class=\"container\"><div class=\"carousel-caption\"><div class=\"station-highlight\"><a href=\"city?id=22\"><h1>Dipayal</h1></a><div class=\"WeatherNow\"><img src=\"/mfd.gov.np/_req/weather_icons/1-sun-64.png\" /><div>At <strong>5:45 am</strong>,</div><div><label>Temperature: </label><strong>22 °C</strong></div><div><label>Humidity: </label><strong>85 %</strong></div><hr/></div><div><div class=\"SunInfo\">Sunrise: <strong>5:31 am</strong>, Sunset: <strong>7:05 pm</strong></div><div><a href=\"city?id=22\">Read More...</a></div></div></div></div></div></div><div class=\"item\"><img data-src=\"holder.js/749x500/audo/#666:#6a6a/text:SomeText\" src=\"/mfd.gov.np/_files/f927b55f77a8cf4ad32cdd88d3b6feae.jpg\"></img><div class=\"container\"><div class=\"carousel-caption\"><div class=\"station-highlight\"><a href=\"city?id=24\"><h1>Birendranagar</h1></a><div class=\"WeatherNow\"><img src=\"/mfd.gov.np/_req/weather_icons/5-sun-64.png\" /><div>At <strong>5:45 am</strong>,</div><div><label>Temperature: </label><strong>21.4 °C</strong></div><div><label>Humidity: </label><strong>77 %</strong></div><hr/></div><div><div class=\"SunInfo\">Sunrise: <strong>5:30 am</strong>, Sunset: <strong>7:01 pm</strong></div><div><a href=\"city?id=24\">Read More...</a></div></div></div></div></div></div><div class=\"item\"><img data-src=\"holder.js/749x500/audo/#666:#6a6a/text:SomeText\" src=\"/mfd.gov.np/_files/0f8207ee86bf76097055c962df157415.jpg\"></img><div class=\"container\"><div class=\"carousel-caption\"><div class=\"station-highlight\"><a href=\"city?id=28\"><h1>Pokhara</h1></a><div class=\"WeatherNow\"><img src=\"/mfd.gov.np/_req/weather_icons/2-sun-64.png\" /><div>At <strong>5:45 am</strong>,</div><div><label>Temperature: </label><strong>20.6 °C</strong></div><div><label>Humidity: </label><strong>78 %</strong></div><hr/></div><div><div class=\"SunInfo\">Sunrise: <strong>5:21 am</strong>, Sunset: <strong>6:51 pm</strong></div><div><a href=\"city?id=28\">Read More...</a></div></div></div></div></div></div><div class=\"item\"><img data-src=\"holder.js/749x500/audo/#666:#6a6a/text:SomeText\" src=\"/mfd.gov.np/_files/bf0ccd1466119e6785c7bc576b88851e.jpg\"></img><div class=\"container\"><div class=\"carousel-caption\"><div class=\"station-highlight\"><a href=\"city?id=31\"><h1>Kathmandu</h1></a><div class=\"WeatherNow\"><img src=\"/mfd.gov.np/_req/weather_icons/4-sun-64.png\" /><div>At <strong>5:45 am</strong>,</div><div><label>Temperature: </label><strong>16.6 °C</strong></div><div><label>Humidity: </label><strong>94 %</strong></div><hr/></div><div><div class=\"SunInfo\">Sunrise: <strong>5:16 am</strong>, Sunset: <strong>6:44 pm</strong></div><div><a href=\"city?id=31\">Read More...</a></div></div></div></div></div></div></div><a class=\"left carousel-control\" href=\"#mainCarousel\" data-slide=\"prev\"><span class=\"glyphicon glyphicon-chevron-left\"></span></a><a class=\"right carousel-control\" href=\"#mainCarousel\" data-slide=\"next\"><span class=\"glyphicon glyphicon-chevron-right\"></span></a></DIV><DIV class=\"container main-body\"><div class=\"row\"><div class=\"col-md-4\"><DIV class=\"highlight-box forecast-box\"><h3>Forecasts <em>2016-05-12 06:00 NPT</em></h3><div></div><div class=\"carousel slide\" data-ride=\"carousel\" id=\"forecast_carousel_1\"><ol class=\"carousel-indicators\"><li data-target=\"#forecast_carousel_1\" data-slide-to=\"0\" data-ride=\"carousel\" data-toggle=\"tooltip\" data-placement=\"top\" title=\"Nepal\" class=\"active\"></li></ol><div class=\"carousel-inner\"><div class=\"item active\"><div><h4>Nepal</h4><b>Today</b><p>Generally cloudy throughout the country. Brief rain or thundershowers likely to occur at many places of the eastern region and at some places of the central and western regions. </p><b>Tonight</b><p>Generally cloudy throughout the country. Brief rain or thundershowers possible at some places of the eastern and western regions and at a few places of the central region. </p></div></div></div><div class=\"text-center\"><a class=\"btn btn-info\" href=\"/weather/#forecasts\">More detail...</a></div></div></DIV></div><div class=\"col-md-4\"><DIV class=\"highlight-box recent-news-box\"><h3>Featured</h3><div class=\"content\"><div class=\"content-preview\"><a href=\"/content/?id=134\"><img class=\"thumb-left\"></img></a><div class=\"content-preview-text\"><h4><a href=\"/content/?id=134\">Monsoon Onset in Nepal (2015)</a></h4><p>A weak surge of monsoon has entered in the eastern parts of Nepal today</p></div></div><div class=\"content-preview\"><a href=\"/content/?id=116\"><img class=\"thumb-right\"></img></a><div class=\"content-preview-text\"><h4><a href=\"/content/?id=116\">Landslides block Kali Gandaki, locals flee for safety</a></h4><p>A massive landslide has blocked Kali Gandaki River at Baisari in Bhagwati VDC of  .................</p></div></div><div class=\"content-preview\"><a href=\"/content/?id=115\"><img class=\"thumb-left\"></img></a><div class=\"content-preview-text\"><h4><a href=\"/content/?id=115\">हावाहुरी र वर्षाले जनजीवन प्रभावित</a></h4><p> काठमाडौं उपत्यकासहित देशभर हावाहुरीसँगै परेको पानीले  जनजीवन प्रभावित ..................</p></div></div></div></DIV></div><div class=\"col-md-4\"><DIV class=\"highlight-box forecast-box\"><h3>Mountain <em>2016-05-11 18:00 NPT</em></h3><div class=\"carousel slide\" data-ride=\"carousel\" id=\"forecast_carousel_2\"><ol class=\"carousel-indicators\"><li data-target=\"#forecast_carousel_2\" data-slide-to=\"0\" data-ride=\"carousel\" data-toggle=\"tooltip\" data-placement=\"top\" class=\"active\"></li></ol><div class=\"carousel-inner\"><div class=\"item active\"><div><h4>Forecasts for Expedition</h4><b>Western Region</b><p>Mostly cloudy with light to moderate snowfall.</p><b>Central Region</b><p>Mostly cloudy with brief snow showers.</p><b>Eastern Region</b><p>Mostly cloudy with light to moderate snowfall.</p><p style=\"border-top: 1px solid #eee; text-align:center\"><small>Valid for next 24 hours</small></p></div></div></div><div class=\"text-center\"><a class=\"btn btn-info\" href=\"/mountaineering\">More detail...</a></div></div></DIV></div></div><div class=\"row\"><div class=\"col-md-4\"><DIV class=\"highlight-box weather-data-table\"><h3>Observations <em>2016-05-11 17:45 NPT</em></h3><table class=\"table\" style=\"margin-bottom: 0px\"><tr><th>Station</th><th class=\"center\">Maximum Temp.<br/>(°C)</th><th class=\"center\">Minimum Temp.<br/>(°C)</th><th class=\"center\">24 hrs Rainfall<br/>(mm)</th></tr><tr><td>Dadeldhura</td><td class=\"center\">23.8</td><td class=\"center\">16.5</td><td class=\"center\">0.0</td></tr><tr><td>Dipayal</td><td class=\"center\">35.5</td><td class=\"center\">20.4</td><td class=\"center\">0.0</td></tr><tr><td>Dhangadi</td><td class=\"center\">31.7</td><td class=\"center\">23.2</td><td class=\"center\">7.9</td></tr><tr><td>Birendranagar</td><td class=\"center\">34.6</td><td class=\"center\">20.2</td><td class=\"center\">0.0</td></tr><tr><td>Nepalgunj</td><td class=\"center\">33.9</td><td class=\"center\">22.0</td><td class=\"center\">2.2</td></tr><tr><td>Jumla</td><td class=\"center\">26.3</td><td class=\"center\">7.0</td><td class=\"center\">2.0</td></tr><tr><td>Dang</td><td class=\"center\">33.4</td><td class=\"center\">20.0</td><td class=\"center\">0.0</td></tr><tr><td>Pokhara</td><td class=\"center\">32.6</td><td class=\"center\">20.8</td><td class=\"center\">0.0</td></tr><tr><td>Bhairahawa</td><td class=\"center\">37.0</td><td class=\"center\">25.0</td><td class=\"center\">0.7</td></tr><tr><td>Simara</td><td class=\"center\">37.5</td><td class=\"center\">24.0</td><td class=\"center\">0.0</td></tr><tr><td>Kathmandu</td><td class=\"center\">28.0</td><td class=\"center\">16.0</td><td class=\"center\">0.8</td></tr><tr><td>Okhaldhunga</td><td class=\"center\">27.5</td><td class=\"center\">15.5</td><td class=\"center\">9.6</td></tr><tr><td>Taplejung</td><td class=\"center\">25.5</td><td class=\"center\">14.8</td><td class=\"center\">3.2</td></tr><tr><td>Dhankuta</td><td class=\"center\">29.0</td><td class=\"center\">17.5</td><td class=\"center\">6.6</td></tr><tr><td>Biratnagar</td><td class=\"center\">35.0</td><td class=\"center\">21.5</td><td class=\"center\">0.0</td></tr><tr><td>Jomsom</td><td class=\"center\">21.6</td><td class=\"center\">8.2</td><td class=\"center\">0.0*</td></tr><tr><td>Dharan</td><td class=\"center\">31.8</td><td class=\"center\">20.0</td><td class=\"center\">8.7*</td></tr><tr><td>Lumle</td><td class=\"center\">24.5</td><td class=\"center\">15.3</td><td class=\"center\">0.0*</td></tr><tr><td>Jankapur</td><td class=\"center\">37.4</td><td class=\"center\">24.5</td><td class=\"center\">Traces*</td></tr><tr><td>Jiri</td><td class=\"center\">24.1</td><td class=\"center\">11.2</td><td class=\"center\">5.8*</td></tr><tr><td align=\"right\" colspan=\"4\"><small>* Daily rainfall data ending at 08:45 AM NPT</small></td></tr></table></DIV></div><div class=\"col-md-4\"><DIV class=\"highlight-box recent-news-box\"><h3>Recent News and Releases</h3><div class=\"content\"><div class=\"content-preview\"><a href=\"/content/?id=221\"><img class=\"thumb-left\"></img></a><div class=\"content-preview-text\"><h4><a href=\"/content/?id=221\">Special Weather Bulletin for Cold Weather</a></h4><p>The minimum temperature recorded on 24th of December 2015 was 00 C for Kathmandu Airport, -8.40C for Jumla  and 1.60C for Taplejung</p></div></div><div class=\"content-preview\"><a href=\"/content/?id=219\"><img class=\"thumb-right\"></img></a><div class=\"content-preview-text\"><h4><a href=\"/content/?id=219\">Withdrawal of Monsoon 2015</a></h4><p> Monsoon has withdrawn completely from Nepal on 3rd October, 2015</p></div></div><div class=\"content-preview\"><a href=\"/content/?id=218\"><img class=\"thumb-left\"></img></a><div class=\"content-preview-text\"><h4><a href=\"/content/?id=218\">Withdrawal of Monsoon from Nepal</a></h4><p>Monsoon has withdrawn from the western and central regions of Nepal as of today</p></div></div><div class=\"content-preview\"><a href=\"/content/?id=134\"><img class=\"thumb-right\"></img></a><div class=\"content-preview-text\"><h4><a href=\"/content/?id=134\">Monsoon Onset in Nepal (2015)</a></h4><p>A weak surge of monsoon has entered in the eastern parts of Nepal today</p></div></div><div class=\"content-preview\"><a href=\"/content/?id=129\"><img class=\"thumb-left\"></img></a><div class=\"content-preview-text\"><h4><a href=\"/content/?id=129\">Press Release for Monsoon Onset and Hot Temperature</a></h4><p>Monsoon normally enters in Nepal on 10th June from the east and spread over rest of the country in few days. </p></div></div></div></DIV></div><div class=\"col-md-4\"><div><div><DIV class=\"highlight-box satellite-box\"><h3>Satellite Image</h3><a href=\"satellite/\"><img src=\"/mfd.gov.np/_files/images/FY2E_2016_05_12_01_31_L_PJ1_IR1.JPG\"></img></a></DIV></div><div></div></div></div></div><div class=\"row\"></div></DIV><footer>\\n\\t<div class=\"container\">\\n\\t\\t<div class=\"row\">\\n\\t\\t\\t<div class=\"col-sm-6\">\\n\\t\\t\\t\\t<h3>Contact Us</h3>\\n\\t\\t\\t\\t<h4>Meteorological Forecasting Division</h4>\\n\\t\\t\\t\\t<p>Gauchar, Tribhuvan International Airport<br/>\\n\\t\\t\\t\\t\\tKathmandu, Nepal<br/>\\n\\t\\t\\t\\t\\t<abbr title=\"Phone\"><span class=\"glyphicon glyphicon-earphone\"></span></abbr>:\\n\\t\\t\\t\\t\\t+977 1 4486869<br/>\\n\\t\\t\\t\\t\\t<abbr title=\"Email\"><span class=\"glyphicon glyphicon-envelope\"></span></abbr>:\\n\\t\\t\\t\\t\\t<a href=\"mailto:info@mfd.gov.np\">info@mfd.gov.np</a>\\n\\t\\t\\t\\t</p>\\n\\t\\t\\t\\t<p><b>Please dial and listen to us for notice board service</b>\\n\\t\\t\\t\\t<dl class=\"footer-number-list dl-horizontal\">\\n\\t\\t\\t\\t\\t<dt>Kathmandu:</dt><dd>1618 07 07 33333 (for daily weather updates)</dd>\\n\\t\\t\\t\\t\\t<dt>Surkhet:</dt><dd>1618 083 523519 (for daily weather data)</dd>\\n\\t\\t\\t\\t\\t<dt>Pokhara:</dt><dd>1618 061 465299 (for daily weather data)</dd>\\n\\t\\t\\t\\t\\t<dt>Dharan:</dt><dd>1618 025 520272 (for daily weather data)</dd>\\n\\t\\t\\t\\t</dl>\\n\\t\\t\\t</div>\\n\\t\\t\\t<div class=\"col-sm-6\">\\n\\t\\t\\t\\t<h3>Links</h3>\\n\\t\\t\\t\\t<h4>\\n\\t\\t\\t\\t\\t<a target=\"_blank\" href=\"http://www.dhm.gov.np\">Department of Hydrology and\\n\\t\\t\\t\\t\\t\\tMeteorology</a>\\n\\t\\t\\t\\t</h4>\\n\\n\\t\\t\\t\\t<h4>\\n\\t\\t\\t\\t\\t<a target=\"_blank\" href=\"http://www.hydrology.gov.np\">Flood        Forecasting Division</a>\\n\\t\\t\\t\\t</h4>\\n\\t\\t\\t\\t<h4>\\n\\t\\t\\t\\t\\t<a target=\"_blank\" href=\"http://www.moste.gov.np\">Ministry of Science, Technology &amp; Environment</a>\\n\\t\\t\\t\\t</h4>\\n\\t\\t\\t</div>\\n\\t\\t</div>\\n\\t</div>\\n\\n\\n</footer>\\n<div class=\"copyright-line\">\\n\\t<div class=\"container\">\\n\\n\\t\\t<div class=\"row\">\\n\\n\\t\\t\\t<div class=\"col-sm-6\">\\n\\n\\t\\t\\t\\t<p><small>Copyright &copy; 2016 Meteorological Forecasting Divison, DHM</small></p>\\n\\t\\t\\t</div>\\n\\n\\t\\t\\t<div class=\"col-sm-6\">\\n\\n\\t\\t\\t\\t<p><small>\\n\\n\\t\\t\\t\\t\\t\\tDesigned and developed by <a href=\"http://www.rts.com.np\">Real\\n\\n\\t\\t\\t\\t\\t\\t\\tTime Solutions Pvt. Ltd.</a></small>\\n\\t\\t\\t\\t</p>\\n\\t\\t\\t</div>\\n\\t\\t</div>\\n\\t</div>\\n</div>\\n<script src=\"/mfd.gov.np/_jquery/jquery-1.11.0.min.js\"></script>\\n<script src=\"/mfd.gov.np/_bootstrap/js/bootstrap.min.js\"></script>\\n\\n\\n\\n<script src=\"/mfd.gov.np/_js/highstock.js\"></script>\\n\\n<script > $(\\'li\\').tooltip(); </script>\\r\\n\\t\\n<script>\\n\\t(function(i,s,o,g,r,a,m){i[\\'GoogleAnalyticsObject\\']=r;i[r]=i[r]||function(){\\n\\t\\t\\t(i[r].q=i[r].q||[]).push(arguments)},i[r].l=1*new Date();a=s.createElement(o),\\n\\t\\t\\tm=s.getElementsByTagName(o)[0];a.async=1;a.src=g;m.parentNode.insertBefore(a,m)\\n\\t})(window,document,\\'script\\',\\'//www.google-analytics.com/analytics.js\\',\\'ga\\');\\n\\n\\tga(\\'create\\', \\'UA-48154100-1\\', \\'www.mfd.gov.np\\');\\n\\tga(\\'send\\', \\'pageview\\');\\n\\n</script>\\n\\n</body>\\n</html>'"
      ]
     },
     "execution_count": 7,
     "metadata": {},
     "output_type": "execute_result"
    }
   ],
   "source": [
    "req.text"
   ]
  },
  {
   "cell_type": "code",
   "execution_count": 8,
   "metadata": {
    "collapsed": true
   },
   "outputs": [],
   "source": [
    "from bs4 import BeautifulSoup"
   ]
  },
  {
   "cell_type": "code",
   "execution_count": 11,
   "metadata": {
    "collapsed": false
   },
   "outputs": [],
   "source": [
    "soup = BeautifulSoup(req.text, \"html.parser\")"
   ]
  },
  {
   "cell_type": "code",
   "execution_count": 12,
   "metadata": {
    "collapsed": false
   },
   "outputs": [
    {
     "data": {
      "text/plain": [
       "<!DOCTYPE html>\n",
       "\n",
       "<html>\n",
       "<head>\n",
       "<title>Meteorological Forecasting Division</title>\n",
       "<meta content=\"width=device-width, initial-scale=1.0, user-scalable=no\" name=\"viewport\">\n",
       "<meta content=\"text/html;charset=utf-8\" http-equiv=\"Content-Type\"/>\n",
       "<link href=\"/mfd.gov.np/_bootstrap/css/bootstrap.css\" rel=\"stylesheet\">\n",
       "<link href=\"/mfd.gov.np/_stylesheets/mfd.css\" rel=\"stylesheet\">\n",
       "<link href=\"/mfd.gov.np/_req/favicon.png\" rel=\"icon\" type=\"image/png\">\n",
       "<!-- HTML5 Shim and Respond.js IE8 support of HTML5 elements and media queries -->\n",
       "<!-- WARNING: Respond.js doesn't work if you view the page via file:// -->\n",
       "<!--[if lt IE 9]>\n",
       "\t<script src=\"/mfd.gov.np/_js/html5shiv.js\"></script>\n",
       "\t<script src=\"/mfd.gov.np/_js/respond.min.js\"></script>\n",
       "\n",
       "\n",
       "\t<![endif]-->\n",
       "</link></link></link></meta></head>\n",
       "<body>\n",
       "<div class=\"site-header\">\n",
       "<div class=\"container\">\n",
       "<img src=\"/mfd.gov.np/_req/logo.png\" width=\"64px\"/>\n",
       "<h2 style=\"margin-bottom: 5px\">Government of Nepal</h2>\n",
       "<h2>Department of Hydrology and Meteorology</h2>\n",
       "<h1>Meteorological Forecasting Division</h1>\n",
       "</div>\n",
       "<div class=\"container\">\n",
       "<div class=\"navbar navbar-inverse navbar-static-top\" role=\"navigation\">\n",
       "<div class=\"navbar-header\">\n",
       "<button class=\"navbar-toggle\" data-target=\".navbar-collapse\" data-toggle=\"collapse\" type=\"button\">\n",
       "<span class=\"sr-only\">Toggle navigation</span> <span class=\"icon-bar\"></span> <span class=\"icon-bar\"></span> <span class=\"icon-bar\"></span>\n",
       "</button>\n",
       "<!-- <a class=\"navbar-brand\" href=\"#\">MFD</a> -->\n",
       "</div>\n",
       "<div class=\"navbar-collapse collapse\">\n",
       "<ul class=\"nav navbar-nav\">\n",
       "<li><a href=\"/\">Home</a></li><li><a href=\"/weather/\">Weather</a></li><li><a href=\"/satellite/\">Satellite</a></li><li><a href=\"/mountaineering/\">Mountaineering</a></li><li><a href=\"/report/\">Archives</a></li>\n",
       "</ul>\n",
       "</div>\n",
       "</div>\n",
       "</div>\n",
       "</div>\n",
       "<div class=\"carousel slide\" data-ride=\"carousel\" id=\"mainCarousel\"><ol class=\"carousel-indicators\"><li class=\"active\" data-ride=\"carousel\" data-slide-to=\"0\" data-target=\"#mainCarousel\"></li><li data-ride=\"carousel\" data-slide-to=\"1\" data-target=\"#mainCarousel\"></li><li data-ride=\"carousel\" data-slide-to=\"2\" data-target=\"#mainCarousel\"></li><li data-ride=\"carousel\" data-slide-to=\"3\" data-target=\"#mainCarousel\"></li></ol><div class=\"carousel-inner\"><div class=\"item active\"><img data-src=\"holder.js/749x500/audo/#666:#6a6a/text:SomeText\" src=\"/mfd.gov.np/_files/3f08cf63ac0295beb40cc32bf5762af4.jpg\"/><div class=\"container\"><div class=\"carousel-caption\"><div class=\"station-highlight\"><a href=\"city?id=22\"><h1>Dipayal</h1></a><div class=\"WeatherNow\"><img src=\"/mfd.gov.np/_req/weather_icons/1-sun-64.png\"/><div>At <strong>5:45 am</strong>,</div><div><label>Temperature: </label><strong>22 °C</strong></div><div><label>Humidity: </label><strong>85 %</strong></div><hr/></div><div><div class=\"SunInfo\">Sunrise: <strong>5:31 am</strong>, Sunset: <strong>7:05 pm</strong></div><div><a href=\"city?id=22\">Read More...</a></div></div></div></div></div></div><div class=\"item\"><img data-src=\"holder.js/749x500/audo/#666:#6a6a/text:SomeText\" src=\"/mfd.gov.np/_files/f927b55f77a8cf4ad32cdd88d3b6feae.jpg\"/><div class=\"container\"><div class=\"carousel-caption\"><div class=\"station-highlight\"><a href=\"city?id=24\"><h1>Birendranagar</h1></a><div class=\"WeatherNow\"><img src=\"/mfd.gov.np/_req/weather_icons/5-sun-64.png\"/><div>At <strong>5:45 am</strong>,</div><div><label>Temperature: </label><strong>21.4 °C</strong></div><div><label>Humidity: </label><strong>77 %</strong></div><hr/></div><div><div class=\"SunInfo\">Sunrise: <strong>5:30 am</strong>, Sunset: <strong>7:01 pm</strong></div><div><a href=\"city?id=24\">Read More...</a></div></div></div></div></div></div><div class=\"item\"><img data-src=\"holder.js/749x500/audo/#666:#6a6a/text:SomeText\" src=\"/mfd.gov.np/_files/0f8207ee86bf76097055c962df157415.jpg\"/><div class=\"container\"><div class=\"carousel-caption\"><div class=\"station-highlight\"><a href=\"city?id=28\"><h1>Pokhara</h1></a><div class=\"WeatherNow\"><img src=\"/mfd.gov.np/_req/weather_icons/2-sun-64.png\"/><div>At <strong>5:45 am</strong>,</div><div><label>Temperature: </label><strong>20.6 °C</strong></div><div><label>Humidity: </label><strong>78 %</strong></div><hr/></div><div><div class=\"SunInfo\">Sunrise: <strong>5:21 am</strong>, Sunset: <strong>6:51 pm</strong></div><div><a href=\"city?id=28\">Read More...</a></div></div></div></div></div></div><div class=\"item\"><img data-src=\"holder.js/749x500/audo/#666:#6a6a/text:SomeText\" src=\"/mfd.gov.np/_files/bf0ccd1466119e6785c7bc576b88851e.jpg\"/><div class=\"container\"><div class=\"carousel-caption\"><div class=\"station-highlight\"><a href=\"city?id=31\"><h1>Kathmandu</h1></a><div class=\"WeatherNow\"><img src=\"/mfd.gov.np/_req/weather_icons/4-sun-64.png\"/><div>At <strong>5:45 am</strong>,</div><div><label>Temperature: </label><strong>16.6 °C</strong></div><div><label>Humidity: </label><strong>94 %</strong></div><hr/></div><div><div class=\"SunInfo\">Sunrise: <strong>5:16 am</strong>, Sunset: <strong>6:44 pm</strong></div><div><a href=\"city?id=31\">Read More...</a></div></div></div></div></div></div></div><a class=\"left carousel-control\" data-slide=\"prev\" href=\"#mainCarousel\"><span class=\"glyphicon glyphicon-chevron-left\"></span></a><a class=\"right carousel-control\" data-slide=\"next\" href=\"#mainCarousel\"><span class=\"glyphicon glyphicon-chevron-right\"></span></a></div><div class=\"container main-body\"><div class=\"row\"><div class=\"col-md-4\"><div class=\"highlight-box forecast-box\"><h3>Forecasts <em>2016-05-12 06:00 NPT</em></h3><div></div><div class=\"carousel slide\" data-ride=\"carousel\" id=\"forecast_carousel_1\"><ol class=\"carousel-indicators\"><li class=\"active\" data-placement=\"top\" data-ride=\"carousel\" data-slide-to=\"0\" data-target=\"#forecast_carousel_1\" data-toggle=\"tooltip\" title=\"Nepal\"></li></ol><div class=\"carousel-inner\"><div class=\"item active\"><div><h4>Nepal</h4><b>Today</b><p>Generally cloudy throughout the country. Brief rain or thundershowers likely to occur at many places of the eastern region and at some places of the central and western regions. </p><b>Tonight</b><p>Generally cloudy throughout the country. Brief rain or thundershowers possible at some places of the eastern and western regions and at a few places of the central region. </p></div></div></div><div class=\"text-center\"><a class=\"btn btn-info\" href=\"/weather/#forecasts\">More detail...</a></div></div></div></div><div class=\"col-md-4\"><div class=\"highlight-box recent-news-box\"><h3>Featured</h3><div class=\"content\"><div class=\"content-preview\"><a href=\"/content/?id=134\"><img class=\"thumb-left\"/></a><div class=\"content-preview-text\"><h4><a href=\"/content/?id=134\">Monsoon Onset in Nepal (2015)</a></h4><p>A weak surge of monsoon has entered in the eastern parts of Nepal today</p></div></div><div class=\"content-preview\"><a href=\"/content/?id=116\"><img class=\"thumb-right\"/></a><div class=\"content-preview-text\"><h4><a href=\"/content/?id=116\">Landslides block Kali Gandaki, locals flee for safety</a></h4><p>A massive landslide has blocked Kali Gandaki River at Baisari in Bhagwati VDC of  .................</p></div></div><div class=\"content-preview\"><a href=\"/content/?id=115\"><img class=\"thumb-left\"/></a><div class=\"content-preview-text\"><h4><a href=\"/content/?id=115\">हावाहुरी र वर्षाले जनजीवन प्रभावित</a></h4><p> काठमाडौं उपत्यकासहित देशभर हावाहुरीसँगै परेको पानीले  जनजीवन प्रभावित ..................</p></div></div></div></div></div><div class=\"col-md-4\"><div class=\"highlight-box forecast-box\"><h3>Mountain <em>2016-05-11 18:00 NPT</em></h3><div class=\"carousel slide\" data-ride=\"carousel\" id=\"forecast_carousel_2\"><ol class=\"carousel-indicators\"><li class=\"active\" data-placement=\"top\" data-ride=\"carousel\" data-slide-to=\"0\" data-target=\"#forecast_carousel_2\" data-toggle=\"tooltip\"></li></ol><div class=\"carousel-inner\"><div class=\"item active\"><div><h4>Forecasts for Expedition</h4><b>Western Region</b><p>Mostly cloudy with light to moderate snowfall.</p><b>Central Region</b><p>Mostly cloudy with brief snow showers.</p><b>Eastern Region</b><p>Mostly cloudy with light to moderate snowfall.</p><p style=\"border-top: 1px solid #eee; text-align:center\"><small>Valid for next 24 hours</small></p></div></div></div><div class=\"text-center\"><a class=\"btn btn-info\" href=\"/mountaineering\">More detail...</a></div></div></div></div></div><div class=\"row\"><div class=\"col-md-4\"><div class=\"highlight-box weather-data-table\"><h3>Observations <em>2016-05-11 17:45 NPT</em></h3><table class=\"table\" style=\"margin-bottom: 0px\"><tr><th>Station</th><th class=\"center\">Maximum Temp.<br/>(°C)</th><th class=\"center\">Minimum Temp.<br/>(°C)</th><th class=\"center\">24 hrs Rainfall<br/>(mm)</th></tr><tr><td>Dadeldhura</td><td class=\"center\">23.8</td><td class=\"center\">16.5</td><td class=\"center\">0.0</td></tr><tr><td>Dipayal</td><td class=\"center\">35.5</td><td class=\"center\">20.4</td><td class=\"center\">0.0</td></tr><tr><td>Dhangadi</td><td class=\"center\">31.7</td><td class=\"center\">23.2</td><td class=\"center\">7.9</td></tr><tr><td>Birendranagar</td><td class=\"center\">34.6</td><td class=\"center\">20.2</td><td class=\"center\">0.0</td></tr><tr><td>Nepalgunj</td><td class=\"center\">33.9</td><td class=\"center\">22.0</td><td class=\"center\">2.2</td></tr><tr><td>Jumla</td><td class=\"center\">26.3</td><td class=\"center\">7.0</td><td class=\"center\">2.0</td></tr><tr><td>Dang</td><td class=\"center\">33.4</td><td class=\"center\">20.0</td><td class=\"center\">0.0</td></tr><tr><td>Pokhara</td><td class=\"center\">32.6</td><td class=\"center\">20.8</td><td class=\"center\">0.0</td></tr><tr><td>Bhairahawa</td><td class=\"center\">37.0</td><td class=\"center\">25.0</td><td class=\"center\">0.7</td></tr><tr><td>Simara</td><td class=\"center\">37.5</td><td class=\"center\">24.0</td><td class=\"center\">0.0</td></tr><tr><td>Kathmandu</td><td class=\"center\">28.0</td><td class=\"center\">16.0</td><td class=\"center\">0.8</td></tr><tr><td>Okhaldhunga</td><td class=\"center\">27.5</td><td class=\"center\">15.5</td><td class=\"center\">9.6</td></tr><tr><td>Taplejung</td><td class=\"center\">25.5</td><td class=\"center\">14.8</td><td class=\"center\">3.2</td></tr><tr><td>Dhankuta</td><td class=\"center\">29.0</td><td class=\"center\">17.5</td><td class=\"center\">6.6</td></tr><tr><td>Biratnagar</td><td class=\"center\">35.0</td><td class=\"center\">21.5</td><td class=\"center\">0.0</td></tr><tr><td>Jomsom</td><td class=\"center\">21.6</td><td class=\"center\">8.2</td><td class=\"center\">0.0*</td></tr><tr><td>Dharan</td><td class=\"center\">31.8</td><td class=\"center\">20.0</td><td class=\"center\">8.7*</td></tr><tr><td>Lumle</td><td class=\"center\">24.5</td><td class=\"center\">15.3</td><td class=\"center\">0.0*</td></tr><tr><td>Jankapur</td><td class=\"center\">37.4</td><td class=\"center\">24.5</td><td class=\"center\">Traces*</td></tr><tr><td>Jiri</td><td class=\"center\">24.1</td><td class=\"center\">11.2</td><td class=\"center\">5.8*</td></tr><tr><td align=\"right\" colspan=\"4\"><small>* Daily rainfall data ending at 08:45 AM NPT</small></td></tr></table></div></div><div class=\"col-md-4\"><div class=\"highlight-box recent-news-box\"><h3>Recent News and Releases</h3><div class=\"content\"><div class=\"content-preview\"><a href=\"/content/?id=221\"><img class=\"thumb-left\"/></a><div class=\"content-preview-text\"><h4><a href=\"/content/?id=221\">Special Weather Bulletin for Cold Weather</a></h4><p>The minimum temperature recorded on 24th of December 2015 was 00 C for Kathmandu Airport, -8.40C for Jumla  and 1.60C for Taplejung</p></div></div><div class=\"content-preview\"><a href=\"/content/?id=219\"><img class=\"thumb-right\"/></a><div class=\"content-preview-text\"><h4><a href=\"/content/?id=219\">Withdrawal of Monsoon 2015</a></h4><p> Monsoon has withdrawn completely from Nepal on 3rd October, 2015</p></div></div><div class=\"content-preview\"><a href=\"/content/?id=218\"><img class=\"thumb-left\"/></a><div class=\"content-preview-text\"><h4><a href=\"/content/?id=218\">Withdrawal of Monsoon from Nepal</a></h4><p>Monsoon has withdrawn from the western and central regions of Nepal as of today</p></div></div><div class=\"content-preview\"><a href=\"/content/?id=134\"><img class=\"thumb-right\"/></a><div class=\"content-preview-text\"><h4><a href=\"/content/?id=134\">Monsoon Onset in Nepal (2015)</a></h4><p>A weak surge of monsoon has entered in the eastern parts of Nepal today</p></div></div><div class=\"content-preview\"><a href=\"/content/?id=129\"><img class=\"thumb-left\"/></a><div class=\"content-preview-text\"><h4><a href=\"/content/?id=129\">Press Release for Monsoon Onset and Hot Temperature</a></h4><p>Monsoon normally enters in Nepal on 10th June from the east and spread over rest of the country in few days. </p></div></div></div></div></div><div class=\"col-md-4\"><div><div><div class=\"highlight-box satellite-box\"><h3>Satellite Image</h3><a href=\"satellite/\"><img src=\"/mfd.gov.np/_files/images/FY2E_2016_05_12_01_31_L_PJ1_IR1.JPG\"/></a></div></div><div></div></div></div></div><div class=\"row\"></div></div><footer>\n",
       "<div class=\"container\">\n",
       "<div class=\"row\">\n",
       "<div class=\"col-sm-6\">\n",
       "<h3>Contact Us</h3>\n",
       "<h4>Meteorological Forecasting Division</h4>\n",
       "<p>Gauchar, Tribhuvan International Airport<br/>\n",
       "\t\t\t\t\tKathmandu, Nepal<br/>\n",
       "<abbr title=\"Phone\"><span class=\"glyphicon glyphicon-earphone\"></span></abbr>:\n",
       "\t\t\t\t\t+977 1 4486869<br/>\n",
       "<abbr title=\"Email\"><span class=\"glyphicon glyphicon-envelope\"></span></abbr>:\n",
       "\t\t\t\t\t<a href=\"mailto:info@mfd.gov.np\">info@mfd.gov.np</a>\n",
       "</p>\n",
       "<p><b>Please dial and listen to us for notice board service</b>\n",
       "<dl class=\"footer-number-list dl-horizontal\">\n",
       "<dt>Kathmandu:</dt><dd>1618 07 07 33333 (for daily weather updates)</dd>\n",
       "<dt>Surkhet:</dt><dd>1618 083 523519 (for daily weather data)</dd>\n",
       "<dt>Pokhara:</dt><dd>1618 061 465299 (for daily weather data)</dd>\n",
       "<dt>Dharan:</dt><dd>1618 025 520272 (for daily weather data)</dd>\n",
       "</dl>\n",
       "</p></div>\n",
       "<div class=\"col-sm-6\">\n",
       "<h3>Links</h3>\n",
       "<h4>\n",
       "<a href=\"http://www.dhm.gov.np\" target=\"_blank\">Department of Hydrology and\n",
       "\t\t\t\t\t\tMeteorology</a>\n",
       "</h4>\n",
       "<h4>\n",
       "<a href=\"http://www.hydrology.gov.np\" target=\"_blank\">Flood        Forecasting Division</a>\n",
       "</h4>\n",
       "<h4>\n",
       "<a href=\"http://www.moste.gov.np\" target=\"_blank\">Ministry of Science, Technology &amp; Environment</a>\n",
       "</h4>\n",
       "</div>\n",
       "</div>\n",
       "</div>\n",
       "</footer>\n",
       "<div class=\"copyright-line\">\n",
       "<div class=\"container\">\n",
       "<div class=\"row\">\n",
       "<div class=\"col-sm-6\">\n",
       "<p><small>Copyright © 2016 Meteorological Forecasting Divison, DHM</small></p>\n",
       "</div>\n",
       "<div class=\"col-sm-6\">\n",
       "<p><small>\n",
       "\n",
       "\t\t\t\t\t\tDesigned and developed by <a href=\"http://www.rts.com.np\">Real\n",
       "\n",
       "\t\t\t\t\t\t\tTime Solutions Pvt. Ltd.</a></small>\n",
       "</p>\n",
       "</div>\n",
       "</div>\n",
       "</div>\n",
       "</div>\n",
       "<script src=\"/mfd.gov.np/_jquery/jquery-1.11.0.min.js\"></script>\n",
       "<script src=\"/mfd.gov.np/_bootstrap/js/bootstrap.min.js\"></script>\n",
       "<script src=\"/mfd.gov.np/_js/highstock.js\"></script>\n",
       "<script> $('li').tooltip(); </script>\n",
       "<script>\n",
       "\t(function(i,s,o,g,r,a,m){i['GoogleAnalyticsObject']=r;i[r]=i[r]||function(){\n",
       "\t\t\t(i[r].q=i[r].q||[]).push(arguments)},i[r].l=1*new Date();a=s.createElement(o),\n",
       "\t\t\tm=s.getElementsByTagName(o)[0];a.async=1;a.src=g;m.parentNode.insertBefore(a,m)\n",
       "\t})(window,document,'script','//www.google-analytics.com/analytics.js','ga');\n",
       "\n",
       "\tga('create', 'UA-48154100-1', 'www.mfd.gov.np');\n",
       "\tga('send', 'pageview');\n",
       "\n",
       "</script>\n",
       "</body>\n",
       "</html>"
      ]
     },
     "execution_count": 12,
     "metadata": {},
     "output_type": "execute_result"
    }
   ],
   "source": [
    "soup"
   ]
  },
  {
   "cell_type": "code",
   "execution_count": 32,
   "metadata": {
    "collapsed": false
   },
   "outputs": [],
   "source": [
    "div = soup.find('div', attrs={'class': 'weather-data-table'})"
   ]
  },
  {
   "cell_type": "code",
   "execution_count": 35,
   "metadata": {
    "collapsed": false
   },
   "outputs": [],
   "source": [
    "table = div.find('table')"
   ]
  },
  {
   "cell_type": "code",
   "execution_count": 18,
   "metadata": {
    "collapsed": true
   },
   "outputs": [],
   "source": [
    "first_table = tables[0]"
   ]
  },
  {
   "cell_type": "code",
   "execution_count": 26,
   "metadata": {
    "collapsed": false
   },
   "outputs": [
    {
     "data": {
      "text/plain": [
       "[<th class=\"center\">Maximum Temp.<br/>(°C)</th>,\n",
       " <th class=\"center\">Minimum Temp.<br/>(°C)</th>,\n",
       " <th class=\"center\">24 hrs Rainfall<br/>(mm)</th>]"
      ]
     },
     "execution_count": 26,
     "metadata": {},
     "output_type": "execute_result"
    }
   ],
   "source": [
    "first_table.find_all('th', attrs={'class': 'center'})"
   ]
  },
  {
   "cell_type": "code",
   "execution_count": 51,
   "metadata": {
    "collapsed": false
   },
   "outputs": [
    {
     "name": "stdout",
     "output_type": "stream",
     "text": [
      "[{'Station': 'Dadeldhura', 'Minimum': '16.5', 'Rainfall': '0.0', 'Maximum': '23.8'}, {'Station': 'Dipayal', 'Minimum': '20.4', 'Rainfall': '0.0', 'Maximum': '35.5'}, {'Station': 'Dhangadi', 'Minimum': '23.2', 'Rainfall': '7.9', 'Maximum': '31.7'}, {'Station': 'Birendranagar', 'Minimum': '20.2', 'Rainfall': '0.0', 'Maximum': '34.6'}, {'Station': 'Nepalgunj', 'Minimum': '22.0', 'Rainfall': '2.2', 'Maximum': '33.9'}, {'Station': 'Jumla', 'Minimum': '7.0', 'Rainfall': '2.0', 'Maximum': '26.3'}, {'Station': 'Dang', 'Minimum': '20.0', 'Rainfall': '0.0', 'Maximum': '33.4'}, {'Station': 'Pokhara', 'Minimum': '20.8', 'Rainfall': '0.0', 'Maximum': '32.6'}, {'Station': 'Bhairahawa', 'Minimum': '25.0', 'Rainfall': '0.7', 'Maximum': '37.0'}, {'Station': 'Simara', 'Minimum': '24.0', 'Rainfall': '0.0', 'Maximum': '37.5'}, {'Station': 'Kathmandu', 'Minimum': '16.0', 'Rainfall': '0.8', 'Maximum': '28.0'}, {'Station': 'Okhaldhunga', 'Minimum': '15.5', 'Rainfall': '9.6', 'Maximum': '27.5'}, {'Station': 'Taplejung', 'Minimum': '14.8', 'Rainfall': '3.2', 'Maximum': '25.5'}, {'Station': 'Dhankuta', 'Minimum': '17.5', 'Rainfall': '6.6', 'Maximum': '29.0'}, {'Station': 'Biratnagar', 'Minimum': '21.5', 'Rainfall': '0.0', 'Maximum': '35.0'}, {'Station': 'Jomsom', 'Minimum': '8.2', 'Rainfall': '0.0*', 'Maximum': '21.6'}, {'Station': 'Dharan', 'Minimum': '20.0', 'Rainfall': '8.7*', 'Maximum': '31.8'}, {'Station': 'Lumle', 'Minimum': '15.3', 'Rainfall': '0.0*', 'Maximum': '24.5'}, {'Station': 'Jankapur', 'Minimum': '24.5', 'Rainfall': 'Traces*', 'Maximum': '37.4'}, {'Station': 'Jiri', 'Minimum': '11.2', 'Rainfall': '5.8*', 'Maximum': '24.1'}]\n"
     ]
    }
   ],
   "source": [
    "data_set = []\n",
    "for tr in table.find_all('tr'):\n",
    "    _data = {}\n",
    "    tds = tr.find_all('td')\n",
    "    if tds and len(tds) > 3:\n",
    "        # _data['Station'] = t\n",
    "        # print(tds)\n",
    "        _data['Station'] = tds[0].string\n",
    "        _data['Maximum'] = tds[1].string\n",
    "        _data['Minimum'] = tds[2].string\n",
    "        _data['Rainfall'] = tds[3].string\n",
    "        data_set.append(_data)\n",
    "print(data_set)"
   ]
  },
  {
   "cell_type": "code",
   "execution_count": 59,
   "metadata": {
    "collapsed": false
   },
   "outputs": [
    {
     "data": {
      "text/plain": [
       "[]"
      ]
     },
     "execution_count": 59,
     "metadata": {},
     "output_type": "execute_result"
    }
   ],
   "source": []
  },
  {
   "cell_type": "code",
   "execution_count": 60,
   "metadata": {
    "collapsed": true
   },
   "outputs": [],
   "source": [
    "import csv"
   ]
  },
  {
   "cell_type": "code",
   "execution_count": 66,
   "metadata": {
    "collapsed": false
   },
   "outputs": [],
   "source": [
    "with open('dataset.csv', 'w') as csvfile:\n",
    "    csvdoc = csv.DictWriter(csvfile, fieldnames=data_set[0].keys())\n",
    "    csvdoc.writeheader()\n",
    "    csvdoc.writerows(data_set)"
   ]
  },
  {
   "cell_type": "code",
   "execution_count": 68,
   "metadata": {
    "collapsed": false
   },
   "outputs": [
    {
     "data": {
      "text/plain": [
       "{'Maximum': '23.8',\n",
       " 'Minimum': '16.5',\n",
       " 'Rainfall': '0.0',\n",
       " 'Station': 'Dadeldhura'}"
      ]
     },
     "execution_count": 68,
     "metadata": {},
     "output_type": "execute_result"
    }
   ],
   "source": [
    "data_set[0]"
   ]
  },
  {
   "cell_type": "code",
   "execution_count": 67,
   "metadata": {
    "collapsed": false
   },
   "outputs": [
    {
     "data": {
      "text/plain": [
       "dict_keys(['Station', 'Minimum', 'Rainfall', 'Maximum'])"
      ]
     },
     "execution_count": 67,
     "metadata": {},
     "output_type": "execute_result"
    }
   ],
   "source": [
    "data_set[0].keys()"
   ]
  },
  {
   "cell_type": "code",
   "execution_count": null,
   "metadata": {
    "collapsed": true
   },
   "outputs": [],
   "source": []
  },
  {
   "cell_type": "code",
   "execution_count": null,
   "metadata": {
    "collapsed": true
   },
   "outputs": [],
   "source": []
  },
  {
   "cell_type": "code",
   "execution_count": null,
   "metadata": {
    "collapsed": true
   },
   "outputs": [],
   "source": []
  },
  {
   "cell_type": "code",
   "execution_count": null,
   "metadata": {
    "collapsed": true
   },
   "outputs": [],
   "source": []
  },
  {
   "cell_type": "code",
   "execution_count": null,
   "metadata": {
    "collapsed": true
   },
   "outputs": [],
   "source": []
  },
  {
   "cell_type": "code",
   "execution_count": null,
   "metadata": {
    "collapsed": true
   },
   "outputs": [],
   "source": []
  }
 ],
 "metadata": {
  "kernelspec": {
   "display_name": "Python 3",
   "language": "python",
   "name": "python3"
  },
  "language_info": {
   "codemirror_mode": {
    "name": "ipython",
    "version": 3
   },
   "file_extension": ".py",
   "mimetype": "text/x-python",
   "name": "python",
   "nbconvert_exporter": "python",
   "pygments_lexer": "ipython3",
   "version": "3.5.1"
  }
 },
 "nbformat": 4,
 "nbformat_minor": 0
}
