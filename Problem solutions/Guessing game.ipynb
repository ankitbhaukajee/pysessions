{
 "cells": [
  {
   "cell_type": "code",
   "execution_count": null,
   "metadata": {
    "collapsed": false
   },
   "outputs": [],
   "source": [
    "import random\n",
    "answer=random.randrange(1,100)\n",
    "print (answer)\n",
    "i=0\n",
    "while i<3:\n",
    "    try:\n",
    "        user_value=int(input(\"Enter a number: \"))\n",
    "    except:\n",
    "        print (\"Value out of bound\")\n",
    "        exit()\n",
    "        \n",
    "    if user_value>answer:\n",
    "        print(\"{} is greater than desired answer\".format(user_value))\n",
    "    elif user_value<answer:\n",
    "        print(\"{} is less than desired answer\".format(user_value))\n",
    "    else:\n",
    "        print(\"{} is a correct answer\".format(user_value))\n",
    "        \n",
    "    i+=1"
   ]
  },
  {
   "cell_type": "markdown",
   "metadata": {},
   "source": []
  },
  {
   "cell_type": "markdown",
   "metadata": {},
   "source": []
  }
 ],
 "metadata": {
  "kernelspec": {
   "display_name": "Python 3",
   "language": "python",
   "name": "python3"
  },
  "language_info": {
   "codemirror_mode": {
    "name": "ipython",
    "version": 3
   },
   "file_extension": ".py",
   "mimetype": "text/x-python",
   "name": "python",
   "nbconvert_exporter": "python",
   "pygments_lexer": "ipython3",
   "version": "3.5.1"
  }
 },
 "nbformat": 4,
 "nbformat_minor": 0
}
